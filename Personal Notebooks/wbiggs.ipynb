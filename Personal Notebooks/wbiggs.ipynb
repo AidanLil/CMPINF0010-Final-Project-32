{
 "cells": [
  {
   "cell_type": "markdown",
   "metadata": {},
   "source": [
    "Wilson's personal notebook\n",
    "\n",
    "Metric: Transportation\n",
    "\n",
    "Requires geopandas, pandas, pygeos\n",
    "\n",
    "Neighborhood borders: https://data.wprdc.org/dataset/neighborhoods2\n",
    "Transit stop locations: https://data.wprdc.org/dataset/port-authority-of-allegheny-county-transit-stops"
   ]
  },
  {
   "cell_type": "code",
   "execution_count": 4,
   "metadata": {},
   "outputs": [
    {
     "name": "stderr",
     "output_type": "stream",
     "text": [
      "/home/wbiggs/anaconda3/lib/python3.9/site-packages/geopandas/_compat.py:111: UserWarning: The Shapely GEOS version (3.10.2-CAPI-1.16.0) is incompatible with the GEOS version PyGEOS was compiled with (3.10.1-CAPI-1.16.0). Conversions between both will be slow.\n",
      "  warnings.warn(\n"
     ]
    }
   ],
   "source": [
    "# import libraries\n",
    "import geopandas as gpd\n",
    "import pandas as pd\n",
    "from scipy import stats"
   ]
  },
  {
   "cell_type": "code",
   "execution_count": 5,
   "metadata": {},
   "outputs": [
    {
     "data": {
      "text/html": [
       "<div>\n",
       "<style scoped>\n",
       "    .dataframe tbody tr th:only-of-type {\n",
       "        vertical-align: middle;\n",
       "    }\n",
       "\n",
       "    .dataframe tbody tr th {\n",
       "        vertical-align: top;\n",
       "    }\n",
       "\n",
       "    .dataframe thead th {\n",
       "        text-align: right;\n",
       "    }\n",
       "</style>\n",
       "<table border=\"1\" class=\"dataframe\">\n",
       "  <thead>\n",
       "    <tr style=\"text-align: right;\">\n",
       "      <th></th>\n",
       "      <th>objectid</th>\n",
       "      <th>fid_blockg</th>\n",
       "      <th>statefp10</th>\n",
       "      <th>countyfp10</th>\n",
       "      <th>tractce10</th>\n",
       "      <th>blkgrpce10</th>\n",
       "      <th>geoid10</th>\n",
       "      <th>namelsad10</th>\n",
       "      <th>mtfcc10</th>\n",
       "      <th>funcstat10</th>\n",
       "      <th>...</th>\n",
       "      <th>page_number</th>\n",
       "      <th>plannerassign</th>\n",
       "      <th>created_user</th>\n",
       "      <th>created_date</th>\n",
       "      <th>last_edited_user</th>\n",
       "      <th>last_edited_date</th>\n",
       "      <th>temp</th>\n",
       "      <th>Shape__Area</th>\n",
       "      <th>Shape__Length</th>\n",
       "      <th>geometry</th>\n",
       "    </tr>\n",
       "  </thead>\n",
       "  <tbody>\n",
       "    <tr>\n",
       "      <th>0</th>\n",
       "      <td>1293</td>\n",
       "      <td>201</td>\n",
       "      <td>42</td>\n",
       "      <td>003</td>\n",
       "      <td>980600</td>\n",
       "      <td>1</td>\n",
       "      <td>420039806001</td>\n",
       "      <td>Block Group 1</td>\n",
       "      <td>G5030</td>\n",
       "      <td>S</td>\n",
       "      <td>...</td>\n",
       "      <td>15</td>\n",
       "      <td>Stephanie Joy Everett</td>\n",
       "      <td>pgh.admin</td>\n",
       "      <td>2020-08-14T14:52:26.924999+00:00</td>\n",
       "      <td>pgh.admin</td>\n",
       "      <td>2020-08-14T14:52:26.924999+00:00</td>\n",
       "      <td>None</td>\n",
       "      <td>1.068796e+07</td>\n",
       "      <td>19600.573085</td>\n",
       "      <td>POLYGON ((-3795.920 4118843.009, -3785.567 411...</td>\n",
       "    </tr>\n",
       "    <tr>\n",
       "      <th>1</th>\n",
       "      <td>1294</td>\n",
       "      <td>10</td>\n",
       "      <td>42</td>\n",
       "      <td>003</td>\n",
       "      <td>261200</td>\n",
       "      <td>1</td>\n",
       "      <td>420032612001</td>\n",
       "      <td>Block Group 1</td>\n",
       "      <td>G5030</td>\n",
       "      <td>S</td>\n",
       "      <td>...</td>\n",
       "      <td>15</td>\n",
       "      <td>Stephanie Joy Everett</td>\n",
       "      <td>pgh.admin</td>\n",
       "      <td>2020-08-14T14:52:26.924999+00:00</td>\n",
       "      <td>pgh.admin</td>\n",
       "      <td>2020-08-14T14:52:26.924999+00:00</td>\n",
       "      <td>None</td>\n",
       "      <td>1.133208e+07</td>\n",
       "      <td>21174.473326</td>\n",
       "      <td>POLYGON ((-1657.274 4122282.602, -1651.679 412...</td>\n",
       "    </tr>\n",
       "    <tr>\n",
       "      <th>2</th>\n",
       "      <td>1295</td>\n",
       "      <td>11</td>\n",
       "      <td>42</td>\n",
       "      <td>003</td>\n",
       "      <td>260900</td>\n",
       "      <td>1</td>\n",
       "      <td>420032609001</td>\n",
       "      <td>Block Group 1</td>\n",
       "      <td>G5030</td>\n",
       "      <td>S</td>\n",
       "      <td>...</td>\n",
       "      <td>15</td>\n",
       "      <td>Stephanie Joy Everett</td>\n",
       "      <td>pgh.admin</td>\n",
       "      <td>2020-08-14T14:52:26.924999+00:00</td>\n",
       "      <td>pgh.admin</td>\n",
       "      <td>2020-08-14T14:52:26.924999+00:00</td>\n",
       "      <td>None</td>\n",
       "      <td>8.743618e+06</td>\n",
       "      <td>13811.917169</td>\n",
       "      <td>POLYGON ((-821.954 4120841.104, -820.083 41208...</td>\n",
       "    </tr>\n",
       "    <tr>\n",
       "      <th>3</th>\n",
       "      <td>1296</td>\n",
       "      <td>7</td>\n",
       "      <td>42</td>\n",
       "      <td>003</td>\n",
       "      <td>262000</td>\n",
       "      <td>1</td>\n",
       "      <td>420032620001</td>\n",
       "      <td>Block Group 1</td>\n",
       "      <td>G5030</td>\n",
       "      <td>S</td>\n",
       "      <td>...</td>\n",
       "      <td>15</td>\n",
       "      <td>Stephanie Joy Everett</td>\n",
       "      <td>pgh.admin</td>\n",
       "      <td>2020-08-14T14:52:26.924999+00:00</td>\n",
       "      <td>pgh.admin</td>\n",
       "      <td>2020-08-14T14:52:26.924999+00:00</td>\n",
       "      <td>None</td>\n",
       "      <td>1.754935e+07</td>\n",
       "      <td>18197.745741</td>\n",
       "      <td>POLYGON ((-192.173 4120155.314, -191.926 41201...</td>\n",
       "    </tr>\n",
       "    <tr>\n",
       "      <th>4</th>\n",
       "      <td>1297</td>\n",
       "      <td>8</td>\n",
       "      <td>42</td>\n",
       "      <td>003</td>\n",
       "      <td>261500</td>\n",
       "      <td>1</td>\n",
       "      <td>420032615001</td>\n",
       "      <td>Block Group 1</td>\n",
       "      <td>G5030</td>\n",
       "      <td>S</td>\n",
       "      <td>...</td>\n",
       "      <td>15</td>\n",
       "      <td>Stephanie Joy Everett</td>\n",
       "      <td>pgh.admin</td>\n",
       "      <td>2020-08-14T14:52:26.924999+00:00</td>\n",
       "      <td>pgh.admin</td>\n",
       "      <td>2020-08-14T14:52:26.924999+00:00</td>\n",
       "      <td>None</td>\n",
       "      <td>2.522420e+07</td>\n",
       "      <td>26390.549314</td>\n",
       "      <td>POLYGON ((-2040.634 4120396.643, -2055.439 412...</td>\n",
       "    </tr>\n",
       "  </tbody>\n",
       "</table>\n",
       "<p>5 rows × 39 columns</p>\n",
       "</div>"
      ],
      "text/plain": [
       "   objectid  fid_blockg statefp10 countyfp10 tractce10 blkgrpce10  \\\n",
       "0      1293         201        42        003    980600          1   \n",
       "1      1294          10        42        003    261200          1   \n",
       "2      1295          11        42        003    260900          1   \n",
       "3      1296           7        42        003    262000          1   \n",
       "4      1297           8        42        003    261500          1   \n",
       "\n",
       "        geoid10     namelsad10 mtfcc10 funcstat10  ...  page_number  \\\n",
       "0  420039806001  Block Group 1   G5030          S  ...           15   \n",
       "1  420032612001  Block Group 1   G5030          S  ...           15   \n",
       "2  420032609001  Block Group 1   G5030          S  ...           15   \n",
       "3  420032620001  Block Group 1   G5030          S  ...           15   \n",
       "4  420032615001  Block Group 1   G5030          S  ...           15   \n",
       "\n",
       "           plannerassign created_user                      created_date  \\\n",
       "0  Stephanie Joy Everett    pgh.admin  2020-08-14T14:52:26.924999+00:00   \n",
       "1  Stephanie Joy Everett    pgh.admin  2020-08-14T14:52:26.924999+00:00   \n",
       "2  Stephanie Joy Everett    pgh.admin  2020-08-14T14:52:26.924999+00:00   \n",
       "3  Stephanie Joy Everett    pgh.admin  2020-08-14T14:52:26.924999+00:00   \n",
       "4  Stephanie Joy Everett    pgh.admin  2020-08-14T14:52:26.924999+00:00   \n",
       "\n",
       "   last_edited_user                  last_edited_date  temp   Shape__Area  \\\n",
       "0         pgh.admin  2020-08-14T14:52:26.924999+00:00  None  1.068796e+07   \n",
       "1         pgh.admin  2020-08-14T14:52:26.924999+00:00  None  1.133208e+07   \n",
       "2         pgh.admin  2020-08-14T14:52:26.924999+00:00  None  8.743618e+06   \n",
       "3         pgh.admin  2020-08-14T14:52:26.924999+00:00  None  1.754935e+07   \n",
       "4         pgh.admin  2020-08-14T14:52:26.924999+00:00  None  2.522420e+07   \n",
       "\n",
       "   Shape__Length                                           geometry  \n",
       "0   19600.573085  POLYGON ((-3795.920 4118843.009, -3785.567 411...  \n",
       "1   21174.473326  POLYGON ((-1657.274 4122282.602, -1651.679 412...  \n",
       "2   13811.917169  POLYGON ((-821.954 4120841.104, -820.083 41208...  \n",
       "3   18197.745741  POLYGON ((-192.173 4120155.314, -191.926 41201...  \n",
       "4   26390.549314  POLYGON ((-2040.634 4120396.643, -2055.439 412...  \n",
       "\n",
       "[5 rows x 39 columns]"
      ]
     },
     "execution_count": 5,
     "metadata": {},
     "output_type": "execute_result"
    }
   ],
   "source": [
    "# read neighborhood polygons\n",
    "neighborhoods = gpd.read_file('https://data.wprdc.org/dataset/e672f13d-71c4-4a66-8f38-710e75ed80a4/resource/4af8e160-57e9-4ebf-a501-76ca1b42fc99/download/pittsburghpaneighborhoods-.geojson')\n",
    "\n",
    "# Reproject hoods to match CRS with meters as base\n",
    "neighborhoods = neighborhoods.to_crs('+proj=cea +lat_0=40.440624 +lon_0=-79.995888 +units=m')\n",
    "\n",
    "neighborhoods.head()"
   ]
  },
  {
   "cell_type": "code",
   "execution_count": 17,
   "metadata": {},
   "outputs": [],
   "source": [
    "# create hood buffers\n",
    "hoods_buffer = neighborhoods.assign(\n",
    "  old_geom = neighborhoods['geometry'],\n",
    "  geometry = lambda df: df['geometry'].map(lambda geom: geom.buffer(200))\n",
    ").assign(\n",
    "  geom_area = lambda df: df['geometry'].map(lambda geom: geom.area)\n",
    ").assign(\n",
    "  buffer_area = lambda df: df['buffer_geom'].map(lambda geom: geom.area)\n",
    ")"
   ]
  },
  {
   "cell_type": "code",
   "execution_count": 7,
   "metadata": {},
   "outputs": [],
   "source": [
    "# read bus stop points\n",
    "stops = gpd.read_file('./wbiggs-data/paac_stops_1909/PAAC_Stops_1909.dbf')\n",
    "\n",
    "# Reproject stops to match CRS with meters as base\n",
    "stops = stops.to_crs('+proj=cea +lat_0=40.440624 +lon_0=-79.995888 +units=m')\n",
    "\n",
    "#stops.head()"
   ]
  },
  {
   "cell_type": "code",
   "execution_count": 25,
   "metadata": {},
   "outputs": [
    {
     "data": {
      "text/plain": [
       "'46.0,41.0,42.0,69.0,116.0,33.0,77.0,74.0,70.0,59.0,54.0,35.0,31.0,58.0,75.0,77.0,59.0,56.0,16.0,32.0,11.0,84.0,134.0,76.0,135.0,72.0,70.0,48.0,86.0,47.0,30.0,177.0,59.0,75.0,46.0,148.0,38.0,85.0,86.0,87.0,61.0,125.0,81.0,59.0,130.0,103.0,61.0,110.0,52.0,93.0,128.0,61.0,67.0,101.0,10.0,43.0,67.0,37.0,56.0,25.0,88.0,80.0,82.0,98.0,157.0,25.0,27.0,37.0,9.0,13.0,72.0,9.0,23.0,28.0,23.0,33.0,78.0,28.0,56.0,93.0,52.0,69.0,37.0,40.0,67.0,32.0,8.0,26.0,nan,14.0'"
      ]
     },
     "execution_count": 25,
     "metadata": {},
     "output_type": "execute_result"
    }
   ],
   "source": [
    "# try sjoin\n",
    "stops_hoods_join = stops.sjoin(hoods_buffer)\n",
    "\n",
    "hoods_buf_w_points = hoods_buffer.join(stops_hoods_join.groupby('index_right').size().rename('points'),how='left')"
   ]
  },
  {
   "cell_type": "code",
   "execution_count": 26,
   "metadata": {},
   "outputs": [
    {
     "name": "stdout",
     "output_type": "stream",
     "text": [
      "0\n"
     ]
    },
    {
     "data": {
      "text/plain": [
       "'46,41,42,69,116,33,77,74,70,59,54,35,31,58,75,77,59,56,16,32,11,84,134,76,135,72,70,48,86,47,30,177,59,75,46,148,38,85,86,87,61,125,81,59,130,103,61,110,52,93,128,61,67,101,10,43,67,37,56,25,88,80,82,98,157,25,27,37,9,13,72,9,23,28,23,33,78,28,56,93,52,69,37,40,67,32,8,26,0,14'"
      ]
     },
     "execution_count": 26,
     "metadata": {},
     "output_type": "execute_result"
    }
   ],
   "source": [
    "# Count stops per neighborhood\n",
    "hood_stop_count = []\n",
    "\n",
    "for i, hood in neighborhoods.iterrows():\n",
    "  count = 0\n",
    "\n",
    "  if (i % 1000 == 0):\n",
    "    print(i)\n",
    "\n",
    "  for j, stop in stops.iterrows():\n",
    "    if (hood.buffer_geom.contains(stop.geometry)):\n",
    "      # it's in there!\n",
    "      count += 1\n",
    "  \n",
    "  hood_stop_count.append({\n",
    "    'name': hood.hood,\n",
    "    'count': count,\n",
    "    'area': hood.buffer_area,\n",
    "    'count_per_sq_km': count / (hood.buffer_area / 1000000)\n",
    "  })\n",
    "\n",
    "hscdf = pd.DataFrame(hood_stop_count)\n",
    "\n",
    "hscdf"
   ]
  },
  {
   "cell_type": "code",
   "execution_count": 174,
   "metadata": {},
   "outputs": [
    {
     "data": {
      "text/plain": [
       "array([[<AxesSubplot:title={'center':'stops_per_km2_scaled'}>]],\n",
       "      dtype=object)"
      ]
     },
     "execution_count": 174,
     "metadata": {},
     "output_type": "execute_result"
    },
    {
     "data": {
      "image/png": "[encoded data removed]",
      "text/plain": [
       "<Figure size 432x288 with 1 Axes>"
      ]
     },
     "metadata": {
      "needs_background": "light"
     },
     "output_type": "display_data"
    }
   ],
   "source": [
    "neighborhoods['stops_per_km2'] = hscdf['count_per_sq_km']\n",
    "neighborhoods['stops_per_km2_scaled'] = (neighborhoods['stops_per_km2'] - neighborhoods['stops_per_km2'].min()) / (neighborhoods['stops_per_km2'].max() - neighborhoods['stops_per_km2'].min())\n",
    "\n",
    "neighborhoods.hist(column='stops_per_km2_scaled')"
   ]
  },
  {
   "cell_type": "code",
   "execution_count": 167,
   "metadata": {},
   "outputs": [
    {
     "data": {
      "text/plain": [
       "<AxesSubplot:>"
      ]
     },
     "execution_count": 167,
     "metadata": {},
     "output_type": "execute_result"
    },
    {
     "data": {
      "image/png": "[encoded data removed]",
      "text/plain": [
       "<Figure size 432x288 with 1 Axes>"
      ]
     },
     "metadata": {
      "needs_background": "light"
     },
     "output_type": "display_data"
    }
   ],
   "source": [
    "neighborhoods.plot(column='stops_per_km2_scaled')"
   ]
  },
  {
   "cell_type": "code",
   "execution_count": 2,
   "metadata": {},
   "outputs": [
    {
     "ename": "NameError",
     "evalue": "name 'stats' is not defined",
     "output_type": "error",
     "traceback": [
      "\u001b[0;31m---------------------------------------------------------------------------\u001b[0m",
      "\u001b[0;31mNameError\u001b[0m                                 Traceback (most recent call last)",
      "\u001b[0;32m/tmp/ipykernel_24982/3948105442.py\u001b[0m in \u001b[0;36m<module>\u001b[0;34m\u001b[0m\n\u001b[1;32m      1\u001b[0m \u001b[0;32mimport\u001b[0m \u001b[0mseaborn\u001b[0m \u001b[0;32mas\u001b[0m \u001b[0msns\u001b[0m\u001b[0;34m\u001b[0m\u001b[0;34m\u001b[0m\u001b[0m\n\u001b[1;32m      2\u001b[0m \u001b[0;34m\u001b[0m\u001b[0m\n\u001b[0;32m----> 3\u001b[0;31m \u001b[0mfit\u001b[0m \u001b[0;34m=\u001b[0m \u001b[0mstats\u001b[0m\u001b[0;34m.\u001b[0m\u001b[0mlognorm\u001b[0m\u001b[0;34m.\u001b[0m\u001b[0mfit\u001b[0m\u001b[0;34m(\u001b[0m\u001b[0mneighborhoods\u001b[0m\u001b[0;34m[\u001b[0m\u001b[0;34m'stops_per_km2'\u001b[0m\u001b[0;34m]\u001b[0m\u001b[0;34m)\u001b[0m\u001b[0;34m\u001b[0m\u001b[0;34m\u001b[0m\u001b[0m\n\u001b[0m\u001b[1;32m      4\u001b[0m \u001b[0;34m\u001b[0m\u001b[0m\n",
      "\u001b[0;31mNameError\u001b[0m: name 'stats' is not defined"
     ]
    }
   ],
   "source": [
    "import seaborn as sns\n",
    "\n",
    "fit = stats.lognorm.fit(neighborhoods['stops_per_km2'])\n",
    "\n"
   ]
  }
 ],
 "metadata": {
  "interpreter": {
   "hash": "31f2aee4e71d21fbe5cf8b01ff0e069b9275f58929596ceb00d14d90e3e16cd6"
  },
  "kernelspec": {
   "display_name": "Python 3.8.10 64-bit",
   "language": "python",
   "name": "python3"
  },
  "language_info": {
   "codemirror_mode": {
    "name": "ipython",
    "version": 3
   },
   "file_extension": ".py",
   "mimetype": "text/x-python",
   "name": "python",
   "nbconvert_exporter": "python",
   "pygments_lexer": "ipython3",
   "version": "3.9.7"
  },
  "orig_nbformat": 4
 },
 "nbformat": 4,
 "nbformat_minor": 2
}
